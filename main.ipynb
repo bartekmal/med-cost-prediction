{
 "cells": [
  {
   "cell_type": "markdown",
   "metadata": {},
   "source": [
    "Optimizing hospital procedures - predicting medical costs based on patient data\n",
    "===\n",
    "---"
   ]
  },
  {
   "cell_type": "code",
   "execution_count": 1,
   "metadata": {},
   "outputs": [],
   "source": [
    "# imports\n",
    "import pandas as pd\n",
    "import seaborn as sns\n",
    "import matplotlib.pyplot as plt\n",
    "\n",
    "from sklearn.model_selection import train_test_split\n",
    "from sklearn.linear_model import LinearRegression\n",
    "from sklearn.metrics import mean_squared_error\n",
    "from sklearn.metrics import r2_score\n",
    "\n",
    "# header\n",
    "%matplotlib inline\n",
    "sns.set_theme()\n",
    "\n",
    "data_path='data/'"
   ]
  },
  {
   "cell_type": "markdown",
   "metadata": {},
   "source": [
    "---\n",
    "# Executive summary\n",
    "\n",
    "**Introduction / approach / limitations.**"
   ]
  },
  {
   "cell_type": "markdown",
   "metadata": {},
   "source": [
    "---\n",
    "# Input data and transformations\n",
    "\n",
    "We use a dataset containing medical costs based on patient data from Kaggle ([link](https://www.kaggle.com/datasets/mirichoi0218/insurance))."
   ]
  },
  {
   "cell_type": "code",
   "execution_count": 2,
   "metadata": {},
   "outputs": [],
   "source": [
    "# load the dataset\n",
    "df = pd.read_csv(data_path+\"insurance.csv\")"
   ]
  },
  {
   "cell_type": "markdown",
   "metadata": {},
   "source": [
    "We inspect the dataset."
   ]
  },
  {
   "cell_type": "code",
   "execution_count": 3,
   "metadata": {},
   "outputs": [
    {
     "name": "stdout",
     "output_type": "stream",
     "text": [
      "<class 'pandas.core.frame.DataFrame'>\n",
      "RangeIndex: 1338 entries, 0 to 1337\n",
      "Data columns (total 7 columns):\n",
      " #   Column    Non-Null Count  Dtype  \n",
      "---  ------    --------------  -----  \n",
      " 0   age       1338 non-null   int64  \n",
      " 1   sex       1338 non-null   object \n",
      " 2   bmi       1338 non-null   float64\n",
      " 3   children  1338 non-null   int64  \n",
      " 4   smoker    1338 non-null   object \n",
      " 5   region    1338 non-null   object \n",
      " 6   charges   1338 non-null   float64\n",
      "dtypes: float64(2), int64(2), object(3)\n",
      "memory usage: 73.3+ KB\n",
      "None\n",
      "      age     sex     bmi  children smoker     region      charges\n",
      "174    24  female  33.345         0     no  northwest   2855.43755\n",
      "1128   34    male  32.800         1     no  southwest  14358.36437\n",
      "988    34    male  34.675         0     no  northeast   4518.82625\n",
      "683    53    male  24.320         0     no  northwest   9863.47180\n",
      "1123   27  female  32.395         1     no  northeast  18903.49141\n",
      "1160   43  female  34.580         1     no  northwest   7727.25320\n",
      "405    52  female  38.380         2     no  northeast  11396.90020\n",
      "669    40  female  29.810         1     no  southeast   6500.23590\n",
      "31     18  female  26.315         0     no  northeast   2198.18985\n",
      "627    33    male  42.460         1     no  southeast  11326.71487\n",
      "\n",
      "\n",
      "Number of duplicate rows: 1\n",
      "\n",
      "\n",
      "age         0\n",
      "sex         0\n",
      "bmi         0\n",
      "children    0\n",
      "smoker      0\n",
      "region      0\n",
      "charges     0\n",
      "dtype: int64\n",
      "\n",
      "\n"
     ]
    }
   ],
   "source": [
    "# quick view (data types / missing values / duplicates)\n",
    "\n",
    "print(df.info())\n",
    "print(df.sample(10))\n",
    "print(\"\\n\")\n",
    "\n",
    "# check for duplicates\n",
    "print(\"Number of duplicate rows:\", df.duplicated().sum())\n",
    "print(\"\\n\")\n",
    "\n",
    "# check for missing\n",
    "print(df.isnull().sum())\n",
    "print(\"\\n\")"
   ]
  },
  {
   "cell_type": "markdown",
   "metadata": {},
   "source": [
    "The dataset is well cleaned and the data does not require further transformations. In particular, it does not contain missing values.\n",
    "\n",
    "We remove a single duplicated entry.\n",
    "\n",
    "We investigate individual features below in the 'Exploratory data analysis' section, to check for unexpected values and consider encoding of the categorical data."
   ]
  },
  {
   "cell_type": "code",
   "execution_count": 4,
   "metadata": {},
   "outputs": [
    {
     "name": "stdout",
     "output_type": "stream",
     "text": [
      "<class 'pandas.core.frame.DataFrame'>\n",
      "Index: 1337 entries, 0 to 1337\n",
      "Data columns (total 7 columns):\n",
      " #   Column    Non-Null Count  Dtype  \n",
      "---  ------    --------------  -----  \n",
      " 0   age       1337 non-null   int64  \n",
      " 1   sex       1337 non-null   object \n",
      " 2   bmi       1337 non-null   float64\n",
      " 3   children  1337 non-null   int64  \n",
      " 4   smoker    1337 non-null   object \n",
      " 5   region    1337 non-null   object \n",
      " 6   charges   1337 non-null   float64\n",
      "dtypes: float64(2), int64(2), object(3)\n",
      "memory usage: 83.6+ KB\n",
      "None\n",
      "\n",
      "\n"
     ]
    }
   ],
   "source": [
    "# remove duplicated entries\n",
    "df.drop_duplicates(inplace=True)\n",
    "\n",
    "print(df.info())\n",
    "print(\"\\n\")"
   ]
  },
  {
   "cell_type": "markdown",
   "metadata": {},
   "source": [
    "---\n",
    "# Exploratory data analysis\n",
    "\n",
    "We perform exploratory data analysis to find feature candidates."
   ]
  },
  {
   "cell_type": "code",
   "execution_count": 5,
   "metadata": {},
   "outputs": [],
   "source": [
    "# candidates for features used to train the model\n",
    "# ! start with all features\n",
    "features_candidates = df.columns.tolist()\n",
    "\n",
    "df = df[features_candidates]\n",
    "\n",
    "# print(df.info())\n",
    "# print(\"\\n\")"
   ]
  },
  {
   "cell_type": "markdown",
   "metadata": {},
   "source": [
    "Inspect individual features and decide on relevant transformations."
   ]
  },
  {
   "cell_type": "code",
   "execution_count": 6,
   "metadata": {},
   "outputs": [
    {
     "name": "stdout",
     "output_type": "stream",
     "text": [
      "count    1337.000000\n",
      "mean       39.222139\n",
      "std        14.044333\n",
      "min        18.000000\n",
      "25%        27.000000\n",
      "50%        39.000000\n",
      "75%        51.000000\n",
      "max        64.000000\n",
      "Name: age, dtype: float64\n"
     ]
    },
    {
     "data": {
      "image/png": "[encoded data removed]",
      "text/plain": [
       "<Figure size 640x480 with 1 Axes>"
      ]
     },
     "metadata": {},
     "output_type": "display_data"
    },
    {
     "name": "stdout",
     "output_type": "stream",
     "text": [
      "count     1337\n",
      "unique       2\n",
      "top       male\n",
      "freq       675\n",
      "Name: sex, dtype: object\n",
      "sex\n",
      "male      675\n",
      "female    662\n",
      "Name: count, dtype: int64\n",
      "count    1337.000000\n",
      "mean       30.663452\n",
      "std         6.100468\n",
      "min        15.960000\n",
      "25%        26.290000\n",
      "50%        30.400000\n",
      "75%        34.700000\n",
      "max        53.130000\n",
      "Name: bmi, dtype: float64\n"
     ]
    },
    {
     "data": {
      "image/png": "[encoded data removed]",
      "text/plain": [
       "<Figure size 640x480 with 1 Axes>"
      ]
     },
     "metadata": {},
     "output_type": "display_data"
    },
    {
     "name": "stdout",
     "output_type": "stream",
     "text": [
      "count    1337.000000\n",
      "mean        1.095737\n",
      "std         1.205571\n",
      "min         0.000000\n",
      "25%         0.000000\n",
      "50%         1.000000\n",
      "75%         2.000000\n",
      "max         5.000000\n",
      "Name: children, dtype: float64\n"
     ]
    },
    {
     "data": {
      "image/png": "[encoded data removed]",
      "text/plain": [
       "<Figure size 640x480 with 1 Axes>"
      ]
     },
     "metadata": {},
     "output_type": "display_data"
    },
    {
     "name": "stdout",
     "output_type": "stream",
     "text": [
      "count     1337\n",
      "unique       2\n",
      "top         no\n",
      "freq      1063\n",
      "Name: smoker, dtype: object\n",
      "smoker\n",
      "no     1063\n",
      "yes     274\n",
      "Name: count, dtype: int64\n",
      "count          1337\n",
      "unique            4\n",
      "top       southeast\n",
      "freq            364\n",
      "Name: region, dtype: object\n",
      "region\n",
      "southeast    364\n",
      "southwest    325\n",
      "northwest    324\n",
      "northeast    324\n",
      "Name: count, dtype: int64\n",
      "count     1337.000000\n",
      "mean     13279.121487\n",
      "std      12110.359656\n",
      "min       1121.873900\n",
      "25%       4746.344000\n",
      "50%       9386.161300\n",
      "75%      16657.717450\n",
      "max      63770.428010\n",
      "Name: charges, dtype: float64\n"
     ]
    },
    {
     "data": {
      "image/png": "[encoded data removed]",
      "text/plain": [
       "<Figure size 640x480 with 1 Axes>"
      ]
     },
     "metadata": {},
     "output_type": "display_data"
    }
   ],
   "source": [
    "from pandas.api.types import is_numeric_dtype\n",
    "  \n",
    "# get basic characteristics\n",
    "for f in features_candidates:\n",
    "    print(df[f].describe())\n",
    "    if is_numeric_dtype(df[f]):\n",
    "        df[f].plot.hist()\n",
    "        plt.show()\n",
    "    else:\n",
    "        print(df[f].value_counts(dropna=False))\n",
    "        plt.show()"
   ]
  },
  {
   "cell_type": "markdown",
   "metadata": {},
   "source": [
    "We inspect correlations between variables."
   ]
  },
  {
   "cell_type": "code",
   "execution_count": 7,
   "metadata": {},
   "outputs": [
    {
     "name": "stdout",
     "output_type": "stream",
     "text": [
      "<class 'pandas.core.frame.DataFrame'>\n",
      "Index: 1337 entries, 0 to 1337\n",
      "Data columns (total 7 columns):\n",
      " #   Column    Non-Null Count  Dtype  \n",
      "---  ------    --------------  -----  \n",
      " 0   age       1337 non-null   int64  \n",
      " 1   sex       1337 non-null   object \n",
      " 2   bmi       1337 non-null   float64\n",
      " 3   children  1337 non-null   int64  \n",
      " 4   smoker    1337 non-null   object \n",
      " 5   region    1337 non-null   object \n",
      " 6   charges   1337 non-null   float64\n",
      "dtypes: float64(2), int64(2), object(3)\n",
      "memory usage: 83.6+ KB\n",
      "None\n",
      "           age   bmi  children  charges\n",
      "age       1.00  0.11      0.04     0.30\n",
      "bmi       0.11  1.00      0.01     0.20\n",
      "children  0.04  0.01      1.00     0.07\n",
      "charges   0.30  0.20      0.07     1.00\n"
     ]
    }
   ],
   "source": [
    "# check correlations\n",
    "# ! numerical columns only\n",
    "\n",
    "print(df.info())\n",
    "correlations = df.select_dtypes(include=['number']).corr()\n",
    "print(correlations.round(2))"
   ]
  },
  {
   "cell_type": "markdown",
   "metadata": {},
   "source": [
    "---\n",
    "# Model building"
   ]
  },
  {
   "cell_type": "markdown",
   "metadata": {},
   "source": [
    "## Feature engineering\n",
    "\n",
    "Tranform data into a format usable by the model."
   ]
  },
  {
   "cell_type": "code",
   "execution_count": 8,
   "metadata": {},
   "outputs": [
    {
     "name": "stdout",
     "output_type": "stream",
     "text": [
      "<class 'pandas.core.frame.DataFrame'>\n",
      "Index: 1337 entries, 0 to 1337\n",
      "Data columns (total 9 columns):\n",
      " #   Column            Non-Null Count  Dtype  \n",
      "---  ------            --------------  -----  \n",
      " 0   age               1337 non-null   int64  \n",
      " 1   bmi               1337 non-null   float64\n",
      " 2   children          1337 non-null   int64  \n",
      " 3   charges           1337 non-null   float64\n",
      " 4   sex_male          1337 non-null   bool   \n",
      " 5   smoker_yes        1337 non-null   bool   \n",
      " 6   region_northwest  1337 non-null   bool   \n",
      " 7   region_southeast  1337 non-null   bool   \n",
      " 8   region_southwest  1337 non-null   bool   \n",
      "dtypes: bool(5), float64(2), int64(2)\n",
      "memory usage: 58.8 KB\n",
      "None\n"
     ]
    }
   ],
   "source": [
    "# encode categorical data (one-hot encoding)\n",
    "# ? adapt to keep flag for all regions\n",
    "df = pd.get_dummies(data = df, drop_first = True) # drop_fist: encode n values using n-1 varaibles\n",
    "\n",
    "print(df.info())"
   ]
  },
  {
   "cell_type": "markdown",
   "metadata": {},
   "source": [
    "Make final checks and select features."
   ]
  },
  {
   "cell_type": "code",
   "execution_count": 9,
   "metadata": {},
   "outputs": [
    {
     "name": "stdout",
     "output_type": "stream",
     "text": [
      "charges             1.00\n",
      "smoker_yes          0.79\n",
      "age                 0.30\n",
      "bmi                 0.20\n",
      "region_southeast    0.07\n",
      "children            0.07\n",
      "sex_male            0.06\n",
      "region_southwest    0.04\n",
      "region_northwest    0.04\n",
      "Name: charges, dtype: float64\n",
      "\n",
      "\n"
     ]
    }
   ],
   "source": [
    "# check correlations between features and the target\n",
    "correlations = df.corr().abs()\n",
    "print(correlations[\"charges\"].sort_values(ascending=False).round(2))\n",
    "print(\"\\n\")\n",
    "\n",
    "# select final features for model building\n",
    "# ! keep all for now\n",
    "features_final = df.columns.tolist()\n",
    "features_final.remove(\"charges\")"
   ]
  },
  {
   "cell_type": "markdown",
   "metadata": {},
   "source": [
    "## Model training"
   ]
  },
  {
   "cell_type": "markdown",
   "metadata": {},
   "source": [
    "Split the dataset."
   ]
  },
  {
   "cell_type": "code",
   "execution_count": 10,
   "metadata": {},
   "outputs": [],
   "source": [
    "# select final features\n",
    "X = df[features_final]\n",
    "y = df[\"charges\"]\n",
    "\n",
    "# split datasets into training / test sets\n",
    "# ! test set - 20% of original dataset / random_state: seed that ensures reproducibility\n",
    "X_train, X_test, y_train, y_test = train_test_split(X, y, test_size=0.20, random_state=268)"
   ]
  },
  {
   "cell_type": "markdown",
   "metadata": {},
   "source": [
    "Build a baseline model."
   ]
  },
  {
   "cell_type": "code",
   "execution_count": 11,
   "metadata": {},
   "outputs": [
    {
     "data": {
      "text/html": [
       "<style>#sk-container-id-1 {color: black;}#sk-container-id-1 pre{padding: 0;}#sk-container-id-1 div.sk-toggleable {background-color: white;}#sk-container-id-1 label.sk-toggleable__label {cursor: pointer;display: block;width: 100%;margin-bottom: 0;padding: 0.3em;box-sizing: border-box;text-align: center;}#sk-container-id-1 label.sk-toggleable__label-arrow:before {content: \"▸\";float: left;margin-right: 0.25em;color: #696969;}#sk-container-id-1 label.sk-toggleable__label-arrow:hover:before {color: black;}#sk-container-id-1 div.sk-estimator:hover label.sk-toggleable__label-arrow:before {color: black;}#sk-container-id-1 div.sk-toggleable__content {max-height: 0;max-width: 0;overflow: hidden;text-align: left;background-color: #f0f8ff;}#sk-container-id-1 div.sk-toggleable__content pre {margin: 0.2em;color: black;border-radius: 0.25em;background-color: #f0f8ff;}#sk-container-id-1 input.sk-toggleable__control:checked~div.sk-toggleable__content {max-height: 200px;max-width: 100%;overflow: auto;}#sk-container-id-1 input.sk-toggleable__control:checked~label.sk-toggleable__label-arrow:before {content: \"▾\";}#sk-container-id-1 div.sk-estimator input.sk-toggleable__control:checked~label.sk-toggleable__label {background-color: #d4ebff;}#sk-container-id-1 div.sk-label input.sk-toggleable__control:checked~label.sk-toggleable__label {background-color: #d4ebff;}#sk-container-id-1 input.sk-hidden--visually {border: 0;clip: rect(1px 1px 1px 1px);clip: rect(1px, 1px, 1px, 1px);height: 1px;margin: -1px;overflow: hidden;padding: 0;position: absolute;width: 1px;}#sk-container-id-1 div.sk-estimator {font-family: monospace;background-color: #f0f8ff;border: 1px dotted black;border-radius: 0.25em;box-sizing: border-box;margin-bottom: 0.5em;}#sk-container-id-1 div.sk-estimator:hover {background-color: #d4ebff;}#sk-container-id-1 div.sk-parallel-item::after {content: \"\";width: 100%;border-bottom: 1px solid gray;flex-grow: 1;}#sk-container-id-1 div.sk-label:hover label.sk-toggleable__label {background-color: #d4ebff;}#sk-container-id-1 div.sk-serial::before {content: \"\";position: absolute;border-left: 1px solid gray;box-sizing: border-box;top: 0;bottom: 0;left: 50%;z-index: 0;}#sk-container-id-1 div.sk-serial {display: flex;flex-direction: column;align-items: center;background-color: white;padding-right: 0.2em;padding-left: 0.2em;position: relative;}#sk-container-id-1 div.sk-item {position: relative;z-index: 1;}#sk-container-id-1 div.sk-parallel {display: flex;align-items: stretch;justify-content: center;background-color: white;position: relative;}#sk-container-id-1 div.sk-item::before, #sk-container-id-1 div.sk-parallel-item::before {content: \"\";position: absolute;border-left: 1px solid gray;box-sizing: border-box;top: 0;bottom: 0;left: 50%;z-index: -1;}#sk-container-id-1 div.sk-parallel-item {display: flex;flex-direction: column;z-index: 1;position: relative;background-color: white;}#sk-container-id-1 div.sk-parallel-item:first-child::after {align-self: flex-end;width: 50%;}#sk-container-id-1 div.sk-parallel-item:last-child::after {align-self: flex-start;width: 50%;}#sk-container-id-1 div.sk-parallel-item:only-child::after {width: 0;}#sk-container-id-1 div.sk-dashed-wrapped {border: 1px dashed gray;margin: 0 0.4em 0.5em 0.4em;box-sizing: border-box;padding-bottom: 0.4em;background-color: white;}#sk-container-id-1 div.sk-label label {font-family: monospace;font-weight: bold;display: inline-block;line-height: 1.2em;}#sk-container-id-1 div.sk-label-container {text-align: center;}#sk-container-id-1 div.sk-container {/* jupyter's `normalize.less` sets `[hidden] { display: none; }` but bootstrap.min.css set `[hidden] { display: none !important; }` so we also need the `!important` here to be able to override the default hidden behavior on the sphinx rendered scikit-learn.org. See: https://github.com/scikit-learn/scikit-learn/issues/21755 */display: inline-block !important;position: relative;}#sk-container-id-1 div.sk-text-repr-fallback {display: none;}</style><div id=\"sk-container-id-1\" class=\"sk-top-container\"><div class=\"sk-text-repr-fallback\"><pre>LinearRegression()</pre><b>In a Jupyter environment, please rerun this cell to show the HTML representation or trust the notebook. <br />On GitHub, the HTML representation is unable to render, please try loading this page with nbviewer.org.</b></div><div class=\"sk-container\" hidden><div class=\"sk-item\"><div class=\"sk-estimator sk-toggleable\"><input class=\"sk-toggleable__control sk-hidden--visually\" id=\"sk-estimator-id-1\" type=\"checkbox\" checked><label for=\"sk-estimator-id-1\" class=\"sk-toggleable__label sk-toggleable__label-arrow\">LinearRegression</label><div class=\"sk-toggleable__content\"><pre>LinearRegression()</pre></div></div></div></div></div>"
      ],
      "text/plain": [
       "LinearRegression()"
      ]
     },
     "execution_count": 11,
     "metadata": {},
     "output_type": "execute_result"
    }
   ],
   "source": [
    "# build the model\n",
    "model = LinearRegression()\n",
    "model.fit(X_train, y_train)"
   ]
  },
  {
   "cell_type": "markdown",
   "metadata": {},
   "source": [
    "Inspect the model coefficients."
   ]
  },
  {
   "cell_type": "code",
   "execution_count": 12,
   "metadata": {},
   "outputs": [
    {
     "name": "stdout",
     "output_type": "stream",
     "text": [
      "            feature  coefficient\n",
      "4        smoker_yes     23933.78\n",
      "2          children       346.30\n",
      "1               bmi       332.33\n",
      "0               age       269.75\n",
      "3          sex_male       -92.67\n",
      "5  region_northwest      -239.10\n",
      "6  region_southeast      -677.90\n",
      "7  region_southwest     -1079.52\n",
      "Intercept: -12120.61\n",
      "\n",
      "\n"
     ]
    }
   ],
   "source": [
    "# get trained parameters\n",
    "coefficients_names = model.feature_names_in_\n",
    "coefficients = model.coef_.round(2)\n",
    "intercept = model.intercept_.round(2)\n",
    "\n",
    "# make a df for readability\n",
    "coefficients_df = pd.DataFrame({\"feature\": coefficients_names, \"coefficient\": coefficients})\n",
    "# coefficients_df.loc[:, \"coefficient_abs\"] = coefficients_df[\"coefficient\"].abs()\n",
    "\n",
    "# print\n",
    "print(coefficients_df.sort_values(\"coefficient\", ascending=False))\n",
    "print(f\"Intercept: {intercept}\")\n",
    "print(\"\\n\")"
   ]
  },
  {
   "cell_type": "markdown",
   "metadata": {},
   "source": [
    "## Model validation\n",
    "\n",
    "We use error metrics and residuals analysis."
   ]
  },
  {
   "cell_type": "code",
   "execution_count": 13,
   "metadata": {},
   "outputs": [
    {
     "name": "stdout",
     "output_type": "stream",
     "text": [
      "Residuals mean: -1.116236715365839e-12\n",
      "\n",
      "\n"
     ]
    },
    {
     "data": {
      "image/png": "[encoded data removed]",
      "text/plain": [
       "<Figure size 640x480 with 1 Axes>"
      ]
     },
     "metadata": {},
     "output_type": "display_data"
    },
    {
     "name": "stdout",
     "output_type": "stream",
     "text": [
      "MSE: 37869659.56500518\n",
      "RMSE: 6153.832916565511\n",
      "R2: 0.7511451848239226\n",
      "\n",
      "\n"
     ]
    }
   ],
   "source": [
    "# validate (residuals mean / residual plot / MSE / coefficient of determination)\n",
    "predictions = model.predict(X_train)\n",
    "\n",
    "# check residuals\n",
    "residuals = y_train - predictions\n",
    "\n",
    "residual_mean = residuals.mean()\n",
    "print(f\"Residuals mean: {residual_mean}\")\n",
    "print(\"\\n\")\n",
    "\n",
    "plt.scatter(predictions, residuals)\n",
    "plt.show()\n",
    "\n",
    "# compute metrics\n",
    "metrics_mse = mean_squared_error(y_train, predictions)\n",
    "metrics_rmse = mean_squared_error(y_train, predictions, squared=False) # make it same dimension as the outcome\n",
    "metrics_r2 = r2_score(y_train, predictions)\n",
    "\n",
    "# print metrics\n",
    "print(f\"MSE: {metrics_mse}\")\n",
    "print(f\"RMSE: {metrics_rmse}\")\n",
    "print(f\"R2: {metrics_r2}\")\n",
    "print(\"\\n\")"
   ]
  },
  {
   "cell_type": "markdown",
   "metadata": {},
   "source": [
    "The model performs well, we use it on the test data."
   ]
  },
  {
   "cell_type": "code",
   "execution_count": 14,
   "metadata": {},
   "outputs": [],
   "source": [
    "# use on test data\n",
    "# ? compute metrics / show results / interpret / compare to training data\n",
    "# y_pred_test = model.predict(X_test)"
   ]
  },
  {
   "cell_type": "markdown",
   "metadata": {},
   "source": [
    "---\n",
    "# Findings\n",
    "\n",
    "Interpret the model / results.\n",
    "\n",
    "Determine best predictors."
   ]
  },
  {
   "cell_type": "markdown",
   "metadata": {},
   "source": [
    "---\n",
    "# Conclusions"
   ]
  }
 ],
 "metadata": {
  "kernelspec": {
   "display_name": "base",
   "language": "python",
   "name": "python3"
  },
  "language_info": {
   "codemirror_mode": {
    "name": "ipython",
    "version": 3
   },
   "file_extension": ".py",
   "mimetype": "text/x-python",
   "name": "python",
   "nbconvert_exporter": "python",
   "pygments_lexer": "ipython3",
   "version": "3.11.5"
  }
 },
 "nbformat": 4,
 "nbformat_minor": 2
}
